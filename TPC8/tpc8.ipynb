{
 "cells": [
  {
   "cell_type": "markdown",
   "metadata": {},
   "source": [
    "#### Texto 1: Harry Potter - Camara Secreta"
   ]
  },
  {
   "cell_type": "code",
   "execution_count": 48,
   "metadata": {},
   "outputs": [],
   "source": [
    "from gensim.utils import tokenize\n",
    "from gensim.models import Word2Vec\n",
    "\n",
    "\n",
    "file = open(\"Harry_Potter_Camara_Secreta-br.txt\", 'r')\n",
    "text = file.read()\n",
    "file.close()\n",
    "\n",
    "linhas_1 = text.split(\"\\n\")\n",
    "\n",
    "tokens1 = []\n",
    "\n",
    "for linha in linhas_1:\n",
    "    linha1 = list(tokenize(linha, lower = True))\n",
    "    tokens1.append(linha1)\n",
    "\n",
    "\n",
    "# Vector_size = 100, Sg = 1, Epochs = 5\n",
    "model1_1 = Word2Vec(tokens1, vector_size = 100, window = 5, min_count = 1, sg = 1, epochs = 5, workers = 3)\n",
    "# Vector_size = 300, Sg = 0, Epochs = 20\n",
    "model1_2 = Word2Vec(tokens1, vector_size = 300, window = 5, min_count = 1, sg = 0, epochs = 20, workers = 3)\n",
    "\n"
   ]
  },
  {
   "cell_type": "markdown",
   "metadata": {},
   "source": [
    "##### Similiaridade"
   ]
  },
  {
   "cell_type": "code",
   "execution_count": 49,
   "metadata": {},
   "outputs": [
    {
     "name": "stdout",
     "output_type": "stream",
     "text": [
      "[('mione', 0.9901161789894104), ('draco', 0.9868512153625488), ('rony', 0.9863961935043335), ('riddle', 0.986395001411438), ('hagrid', 0.9847879409790039), ('olhando', 0.9847381114959717), ('dumbledore', 0.9833214282989502), ('então', 0.9830414652824402), ('depressa', 0.983023464679718), ('lockhart', 0.9828611016273499)]\n",
      "[('quer', 0.9830569624900818), ('ah', 0.9825320839881897), ('potter', 0.9816927313804626), ('melhor', 0.9813854098320007), ('claro', 0.9804083704948425), ('senhor', 0.9802635312080383), ('queria', 0.9798963069915771), ('só', 0.9798919558525085), ('pode', 0.9797303676605225), ('isto', 0.9792225956916809)]\n",
      "[('virou', 0.9908686876296997), ('olhar', 0.9907879829406738), ('olhou', 0.9904645681381226), ('cara', 0.9898593425750732), ('quando', 0.9887882471084595), ('levantou', 0.9883334040641785), ('começou', 0.9882565140724182), ('deu', 0.9877582788467407), ('ficou', 0.9875543713569641), ('boca', 0.9875441789627075)]\n",
      "[('riddle', 0.9950929880142212), ('ainda', 0.9946346879005432), ('ver', 0.9936421513557434), ('percy', 0.9924425482749939), ('depressa', 0.9921694993972778), ('também', 0.9911696314811707), ('hagrid', 0.9910256266593933), ('então', 0.9903033375740051), ('fez', 0.9900044202804565), ('mione', 0.9898590445518494)]\n",
      "\n",
      "[('rony', 0.9472701549530029), ('mione', 0.9321826100349426), ('draco', 0.9194116592407227), ('hermione', 0.9183604121208191), ('alerta', 0.8987363576889038), ('olhando', 0.8970629572868347), ('afastando', 0.8960983753204346), ('caninos', 0.8960249423980713), ('lembrem', 0.8949869871139526), ('suavidade', 0.8883172869682312)]\n",
      "[('der', 0.9187309145927429), ('ofensa', 0.9183867573738098), ('humilde', 0.9156535863876343), ('irá', 0.9104073643684387), ('moro', 0.9063806533813477), ('ligam', 0.9025038480758667), ('senhor', 0.89839106798172), ('ofender', 0.8970192670822144), ('jogada', 0.8934423327445984), ('incrédulo', 0.8904620409011841)]\n",
      "[('examinavam', 0.9555636048316956), ('vigiava', 0.9401747584342957), ('virou', 0.9401719570159912), ('rony', 0.9290752410888672), ('olhando', 0.9266602396965027), ('torceu', 0.9263668060302734), ('arrastada', 0.919425904750824), ('harry', 0.9183604717254639), ('estenderam', 0.9179084300994873), ('bispo', 0.9134557843208313)]\n",
      "[('riddle', 0.9498122334480286), ('suavidade', 0.9272587299346924), ('jogada', 0.9223299622535706), ('hagrid', 0.9223166704177856), ('quê', 0.9191831946372986), ('ele', 0.9190822839736938), ('legal', 0.9174274206161499), ('inveja', 0.9171054363250732), ('enganado', 0.9169119000434875), ('flaherty', 0.9158922433853149)]\n"
     ]
    }
   ],
   "source": [
    "print(model1_1.wv.most_similar(\"harry\"))\n",
    "print(model1_1.wv.most_similar(\"dobby\"))\n",
    "print(model1_1.wv.most_similar(\"hermione\"))\n",
    "print(model1_1.wv.most_similar(\"dumbledore\"))\n",
    "print()\n",
    "print(model1_2.wv.most_similar(\"harry\"))\n",
    "print(model1_2.wv.most_similar(\"dobby\"))\n",
    "print(model1_2.wv.most_similar(\"hermione\"))\n",
    "print(model1_2.wv.most_similar(\"dumbledore\"))"
   ]
  },
  {
   "cell_type": "markdown",
   "metadata": {},
   "source": [
    "##### No match"
   ]
  },
  {
   "cell_type": "code",
   "execution_count": 50,
   "metadata": {},
   "outputs": [
    {
     "name": "stdout",
     "output_type": "stream",
     "text": [
      "edwiges\n",
      "\n",
      "potter\n"
     ]
    }
   ],
   "source": [
    "print(model1_1.wv.doesnt_match([\"harry\", \"potter\", \"edwiges\"]))\n",
    "print()\n",
    "print(model1_2.wv.doesnt_match([\"harry\", \"potter\", \"edwiges\"]))"
   ]
  },
  {
   "cell_type": "markdown",
   "metadata": {},
   "source": [
    "##### Analogias"
   ]
  },
  {
   "cell_type": "code",
   "execution_count": 58,
   "metadata": {},
   "outputs": [
    {
     "name": "stdout",
     "output_type": "stream",
     "text": [
      "[('rony', 0.9622092247009277), ('voz', 0.9543855786323547), ('viu', 0.9470661878585815), ('mione', 0.9438828825950623), ('fred', 0.9405107498168945), ('draco', 0.932046115398407), ('jorge', 0.9280320405960083), ('gina', 0.9269526600837708), ('cara', 0.9253128170967102), ('riddle', 0.9213398098945618)]\n",
      "\n",
      "[('rony', 0.8750925660133362), ('alerta', 0.8394627571105957), ('treinaram', 0.8319976329803467), ('embargada', 0.8219377398490906), ('lembrem', 0.8108441233634949), ('aparecium', 0.8107247948646545), ('emparelhando', 0.8011704087257385), ('mione', 0.7974877953529358), ('jorge', 0.7846206426620483), ('draco', 0.771638035774231)]\n"
     ]
    }
   ],
   "source": [
    "print(model1_1.wv.most_similar(positive=['harry', 'hermione'], negative=['edwiges']))\n",
    "print()\n",
    "print(model1_2.wv.most_similar(positive=['harry', 'hermione'], negative=['edwiges']))"
   ]
  },
  {
   "cell_type": "markdown",
   "metadata": {},
   "source": [
    "#### Texto 2: Harry Potter e A Pedra Filosofal"
   ]
  },
  {
   "cell_type": "code",
   "execution_count": 51,
   "metadata": {},
   "outputs": [],
   "source": [
    "file1 = open(\"Harry_Potter_e_A_Pedra_Filosofal.txt\", 'r')\n",
    "text = file1.read()\n",
    "file.close()\n",
    "\n",
    "linhas_2 = text.split(\"\\n\")\n",
    "\n",
    "tokens2 = []\n",
    "for linha in linhas_2:\n",
    "    linha2 = list(tokenize(linha, lower = True))\n",
    "    tokens2.append(linha2)\n",
    "\n",
    "\n",
    "# Vector_size = 100, Sg = 1, Epochs = 5\n",
    "model2_1 = Word2Vec(tokens2, vector_size = 100, window = 5, min_count = 1, sg = 1, epochs = 5, workers = 3)\n",
    "# Vector_size = 300, Sg = 0, Epochs = 20\n",
    "model2_2 = Word2Vec(tokens2, vector_size = 300, window = 5, min_count = 1, sg = 0, epochs = 20, workers = 3)"
   ]
  },
  {
   "cell_type": "markdown",
   "metadata": {},
   "source": [
    "##### Similiaridade"
   ]
  },
  {
   "cell_type": "code",
   "execution_count": 52,
   "metadata": {},
   "outputs": [
    {
     "name": "stdout",
     "output_type": "stream",
     "text": [
      "[('hermione', 0.9916040897369385), ('hagrid', 0.9904083013534546), ('rony', 0.9900992512702942), ('quirrell', 0.9863142371177673), ('se', 0.985669732093811), ('voz', 0.9848644137382507), ('pedra', 0.984176754951477), ('tinha', 0.9834359884262085), ('viu', 0.9818403124809265), ('neville', 0.9817914962768555)]\n",
      "[('vendo', 0.998683512210846), ('conseguiu', 0.9986047148704529), ('dizendo', 0.9985769391059875), ('aconteceu', 0.9985360503196716), ('quis', 0.9984616041183472), ('pensando', 0.9984116554260254), ('quê', 0.9982828497886658), ('olhe', 0.9982592463493347), ('minha', 0.9981369972229004), ('nós', 0.9980884790420532)]\n",
      "[('rony', 0.9947393536567688), ('hagrid', 0.9916167259216309), ('harry', 0.9916039705276489), ('se', 0.9853715300559998), ('quirrell', 0.9850826859474182), ('pedra', 0.9830922484397888), ('voz', 0.9828821420669556), ('snape', 0.9817151427268982), ('neville', 0.9808852076530457), ('draco', 0.9804794192314148)]\n",
      "[('snape', 0.9921901226043701), ('falar', 0.9904776811599731), ('ele', 0.9900257587432861), ('verdade', 0.9897003173828125), ('então', 0.9896266460418701), ('quirrell', 0.9883691668510437), ('melhor', 0.9883238673210144), ('ver', 0.9882201552391052), ('hagrid', 0.9877318739891052), ('respondeu', 0.9874566197395325)]\n",
      "\n",
      "[('rony', 0.9549317955970764), ('neville', 0.949454128742218), ('hagrid', 0.9452618360519409), ('irritação', 0.9372479915618896), ('abano', 0.9279443025588989), ('hermione', 0.9267144203186035), ('sonolento', 0.9200037717819214), ('lentidão', 0.9195621609687805), ('coçando', 0.9194089770317078), ('olhando', 0.9158307313919067)]\n",
      "[('nicolau', 0.9929500222206116), ('desculpe', 0.9927581548690796), ('expulso', 0.9927538633346558), ('preciso', 0.9923099279403687), ('papai', 0.9921588897705078), ('matar', 0.9920659065246582), ('mamãe', 0.9916828274726868), ('talento', 0.9916346073150635), ('isto', 0.9914474487304688), ('descobrir', 0.9913155436515808)]\n",
      "[('rony', 0.9755897521972656), ('sonolento', 0.9664358496665955), ('argumentar', 0.9274600744247437), ('harry', 0.9267144799232483), ('amarrou', 0.9246989488601685), ('esganiçada', 0.9230924844741821), ('exclamaram', 0.9230430722236633), ('rispidez', 0.9225870370864868), ('calem', 0.9193105101585388), ('granger', 0.9175221920013428)]\n",
      "[('snape', 0.9585136771202087), ('sonhador', 0.9513655304908752), ('elogio', 0.9442793130874634), ('falou', 0.9405289888381958), ('culpa', 0.9405229091644287), ('professor', 0.9391879439353943), ('falar', 0.9387425780296326), ('verdade', 0.9373387098312378), ('rapidez', 0.9366717338562012), ('calmamente', 0.9358685612678528)]\n"
     ]
    }
   ],
   "source": [
    "print(model2_1.wv.most_similar(\"harry\"))\n",
    "print(model2_1.wv.most_similar(\"voldemort\"))\n",
    "print(model2_1.wv.most_similar(\"hermione\"))\n",
    "print(model2_1.wv.most_similar(\"dumbledore\"))\n",
    "print()\n",
    "print(model2_2.wv.most_similar(\"harry\"))\n",
    "print(model2_2.wv.most_similar(\"voldemort\"))\n",
    "print(model2_2.wv.most_similar(\"hermione\"))\n",
    "print(model2_2.wv.most_similar(\"dumbledore\"))"
   ]
  },
  {
   "cell_type": "markdown",
   "metadata": {},
   "source": [
    "##### No Match"
   ]
  },
  {
   "cell_type": "code",
   "execution_count": 55,
   "metadata": {},
   "outputs": [
    {
     "name": "stdout",
     "output_type": "stream",
     "text": [
      "edwiges\n",
      "\n",
      "potter\n"
     ]
    }
   ],
   "source": [
    "print(model2_1.wv.doesnt_match([\"harry\", \"potter\", \"edwiges\"]))\n",
    "print()\n",
    "print(model2_2.wv.doesnt_match([\"harry\", \"potter\", \"edwiges\"]))"
   ]
  },
  {
   "cell_type": "markdown",
   "metadata": {},
   "source": [
    "##### Analogias"
   ]
  },
  {
   "cell_type": "code",
   "execution_count": 59,
   "metadata": {},
   "outputs": [
    {
     "name": "stdout",
     "output_type": "stream",
     "text": [
      "[('rony', 0.9546559453010559), ('perguntou', 0.9271367788314819), ('foi', 0.918853223323822), ('hagrid', 0.9137375950813293), ('dumbledore', 0.907340407371521), ('snape', 0.9043620228767395), ('disse', 0.8995141386985779), ('pedra', 0.8993390798568726), ('quirrell', 0.8978411555290222), ('se', 0.8966749906539917)]\n",
      "\n",
      "[('rony', 0.904279887676239), ('argumentar', 0.8385753631591797), ('comprara', 0.8337374925613403), ('sonolento', 0.8064132928848267), ('recusava', 0.8020051717758179), ('hagrid', 0.7933284044265747), ('pensativo', 0.7878603935241699), ('lamber', 0.7788232564926147), ('embargada', 0.7674283981323242), ('nabos', 0.7663854360580444)]\n"
     ]
    }
   ],
   "source": [
    "print(model2_1.wv.most_similar(positive=['harry', 'hermione'], negative=['edwiges']))\n",
    "print()\n",
    "print(model2_2.wv.most_similar(positive=['harry', 'hermione'], negative=['edwiges']))"
   ]
  },
  {
   "cell_type": "markdown",
   "metadata": {},
   "source": [
    "#### Texto 1 e Texto 2"
   ]
  },
  {
   "cell_type": "code",
   "execution_count": 38,
   "metadata": {},
   "outputs": [],
   "source": [
    "tokens3 = tokens1 + tokens2\n",
    "\n",
    "# Vector_size = 100, Sg = 1, Epochs = 5\n",
    "model3_1 = Word2Vec(tokens3, vector_size = 100, window = 5, min_count = 1, sg = 1, epochs = 5, workers = 3)\n",
    "# Vector_size = 300, Sg = 0, Epochs = 20\n",
    "model3_2 = Word2Vec(tokens3, vector_size = 300, window = 5, min_count = 1, sg = 0, epochs = 20, workers = 3)"
   ]
  },
  {
   "cell_type": "markdown",
   "metadata": {},
   "source": [
    "##### Similiaridade"
   ]
  },
  {
   "cell_type": "code",
   "execution_count": 40,
   "metadata": {},
   "outputs": [
    {
     "name": "stdout",
     "output_type": "stream",
     "text": [
      "[('mione', 0.9305639266967773), ('rony', 0.9272890090942383), ('hermione', 0.9245339035987854), ('neville', 0.9232107400894165), ('hagrid', 0.9187149405479431), ('draco', 0.9170423150062561), ('então', 0.9132677316665649), ('riddle', 0.910859227180481), ('quirrell', 0.9092679023742676), ('ela', 0.9056463837623596)]\n",
      "[('vê', 0.994137167930603), ('explicar', 0.9939350485801697), ('afinal', 0.9935866594314575), ('aposto', 0.9929571151733398), ('lembrar', 0.9929454326629639), ('esperar', 0.9927657246589661), ('contente', 0.9926550388336182), ('expulso', 0.9924459457397461), ('aquilo', 0.9924331307411194), ('entender', 0.9923380613327026)]\n",
      "[('rony', 0.9576914310455322), ('mione', 0.9514142870903015), ('depressa', 0.9469789266586304), ('lockhart', 0.939971923828125), ('olhando', 0.9397377371788025), ('rispidez', 0.9345332980155945), ('neville', 0.9345113635063171), ('então', 0.9342118501663208), ('harry', 0.9245339035987854), ('jorge', 0.9236793518066406)]\n",
      "[('percy', 0.9508876800537109), ('quirrell', 0.9439025521278381), ('riddle', 0.9411901235580444), ('baixinho', 0.940226674079895), ('snape', 0.9401608109474182), ('dobby', 0.9386090040206909), ('mione', 0.9362541437149048), ('ansioso', 0.9360218048095703), ('lúcio', 0.9358909726142883), ('gina', 0.9356765151023865)]\n",
      "\n",
      "[('neville', 0.7403849959373474), ('draco', 0.7210935950279236), ('mione', 0.7143808007240295), ('hermione', 0.6912150382995605), ('ele', 0.6777399182319641), ('quirrell', 0.6744350790977478), ('hagrid', 0.6569281220436096), ('rony', 0.6532167196273804), ('riddle', 0.6479713320732117), ('ela', 0.637309193611145)]\n",
      "[('decidir', 0.9163313508033752), ('porquê', 0.9116994142532349), ('aliás', 0.9088982343673706), ('atacante', 0.9077196717262268), ('morrer', 0.9001344442367554), ('expulso', 0.8962541222572327), ('comigo', 0.8956397771835327), ('pudermos', 0.8936021327972412), ('trouxa', 0.88917475938797), ('descobrimos', 0.8877390027046204)]\n",
      "[('mione', 0.8468180298805237), ('neville', 0.8050506711006165), ('rony', 0.7893591523170471), ('pousamos', 0.7831069231033325), ('ansioso', 0.7807661890983582), ('finalmente', 0.7744722962379456), ('olhando', 0.7723566889762878), ('colin', 0.7465537190437317), ('velhinho', 0.7392351627349854), ('examinavam', 0.7376536726951599)]\n",
      "[('quirrell', 0.8331825137138367), ('flitwick', 0.816758930683136), ('binns', 0.8103417754173279), ('snape', 0.7746161818504333), ('riddle', 0.7688233852386475), ('hagrid', 0.7664204835891724), ('práticos', 0.7461050152778625), ('começamos', 0.7255439162254333), ('chocar', 0.7198794484138489), ('pressurosa', 0.7183314561843872)]\n"
     ]
    }
   ],
   "source": [
    "print(model3_1.wv.most_similar(\"harry\"))\n",
    "print(model3_1.wv.most_similar(\"voldemort\"))\n",
    "print(model3_1.wv.most_similar(\"hermione\"))\n",
    "print(model3_1.wv.most_similar(\"dumbledore\"))\n",
    "print()\n",
    "print(model3_2.wv.most_similar(\"harry\"))\n",
    "print(model3_2.wv.most_similar(\"voldemort\"))\n",
    "print(model3_2.wv.most_similar(\"hermione\"))\n",
    "print(model3_2.wv.most_similar(\"dumbledore\"))"
   ]
  },
  {
   "cell_type": "markdown",
   "metadata": {},
   "source": [
    "##### No Match"
   ]
  },
  {
   "cell_type": "code",
   "execution_count": 56,
   "metadata": {},
   "outputs": [
    {
     "name": "stdout",
     "output_type": "stream",
     "text": [
      "potter\n",
      "\n",
      "potter\n"
     ]
    }
   ],
   "source": [
    "print(model3_1.wv.doesnt_match([\"harry\", \"potter\", \"edwiges\"]))\n",
    "print()\n",
    "print(model3_2.wv.doesnt_match([\"harry\", \"potter\", \"edwiges\"]))"
   ]
  },
  {
   "cell_type": "markdown",
   "metadata": {},
   "source": [
    "##### Analogias"
   ]
  },
  {
   "cell_type": "code",
   "execution_count": 61,
   "metadata": {},
   "outputs": [
    {
     "name": "stdout",
     "output_type": "stream",
     "text": [
      "[('rony', 0.8635035157203674), ('mione', 0.7902557849884033), ('hagrid', 0.7703970670700073), ('jorge', 0.7667624354362488), ('então', 0.7594040036201477), ('percy', 0.7558616995811462), ('fred', 0.755661129951477), ('depressa', 0.7499883770942688), ('ela', 0.7480778098106384), ('lockhart', 0.7464368343353271)]\n",
      "\n",
      "[('mione', 0.6551173329353333), ('querias', 0.6077417135238647), ('rony', 0.6056430339813232), ('draco', 0.5980222821235657), ('neville', 0.5916569828987122), ('pousamos', 0.5814764499664307), ('então', 0.5598363280296326), ('ela', 0.5556333065032959), ('hagrid', 0.5456454157829285), ('riddle', 0.5355365872383118)]\n"
     ]
    }
   ],
   "source": [
    "print(model3_1.wv.most_similar(positive=['harry', 'hermione'], negative=['edwiges']))\n",
    "print()\n",
    "print(model3_2.wv.most_similar(positive=['harry', 'hermione'], negative=['edwiges']))"
   ]
  }
 ],
 "metadata": {
  "kernelspec": {
   "display_name": "Python 3",
   "language": "python",
   "name": "python3"
  },
  "language_info": {
   "codemirror_mode": {
    "name": "ipython",
    "version": 3
   },
   "file_extension": ".py",
   "mimetype": "text/x-python",
   "name": "python",
   "nbconvert_exporter": "python",
   "pygments_lexer": "ipython3",
   "version": "3.11.9"
  }
 },
 "nbformat": 4,
 "nbformat_minor": 2
}
